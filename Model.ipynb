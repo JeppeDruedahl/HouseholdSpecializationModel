{
 "cells": [
  {
   "cell_type": "code",
   "execution_count": 1,
   "id": "fe4cd721-8570-4d9f-8085-8f1baf1b3bd8",
   "metadata": {},
   "outputs": [],
   "source": [
    "from types import SimpleNamespace\n",
    "import numpy as np\n",
    "import pandas as pd \n",
    "import matplotlib.pyplot as plt"
   ]
  },
  {
   "cell_type": "markdown",
   "id": "9b757e06-2038-485e-b17b-1539d2d9df1b",
   "metadata": {},
   "source": [
    "# Model"
   ]
  },
  {
   "cell_type": "markdown",
   "id": "4d42ba13-4ef1-487a-836e-5edfe8cc3ae5",
   "metadata": {},
   "source": [
    "$$\n",
    "\\begin{aligned}\n",
    "\\max_{L_{W},L_{M},H_{W},H_{M}}&\\frac{Q^{1-\\rho}}{1-\\rho}-\\nu\\left(\\frac{T_{M}^{1+\\epsilon}}{1+\\epsilon}+\\frac{T_{W}^{1+\\epsilon}}{1+\\epsilon}\\right) \\\\\n",
    "\\text{s.t.}& \\\\\n",
    "C&=w_{M}L_{M}+w_{W}L_{W} \\\\\n",
    "H&=p_{M}H_{M}+p_{W}H_{W} \\\\\n",
    "Q&=C^{\\omega}H^{1-\\omega}+\\underline{Q} \\\\\n",
    "X\\in\\{M,W\\}:\\,T_{X}&=\\left(\\left(L_{X}\\right)^{\\sigma}+\\left(H_{X}\\right)^{\\sigma}\\right)^{\\frac{1}{\\sigma}} \\\\\n",
    "X\\in\\{M,W\\}:L_{X}+H_{X}&\\leq24 \\\\\n",
    "X\\in\\{M,W\\},Y\\in{L,H}:Y_{X}&\\in\\left\\{ 0,\\frac{1}{2},1,\\frac{3}{2},\\dots24\\right\\} \\\\\n",
    "\\end{aligned}\n",
    "$$"
   ]
  },
  {
   "cell_type": "markdown",
   "id": "4f762d77-663f-4e7d-b7fe-ec85ed755df3",
   "metadata": {},
   "source": [
    "# Parameters"
   ]
  },
  {
   "cell_type": "code",
   "execution_count": 2,
   "id": "f6eda850-1b82-4d6d-a09e-56adf49f9471",
   "metadata": {},
   "outputs": [],
   "source": [
    "par = SimpleNamespace()"
   ]
  },
  {
   "cell_type": "code",
   "execution_count": 3,
   "id": "67759b94-eb04-435f-9234-2d19d9901e01",
   "metadata": {},
   "outputs": [],
   "source": [
    "# a. wages\n",
    "par.wM = 1.1\n",
    "par.wW = 0.9\n",
    "\n",
    "# b. productivity\n",
    "par.pM = 0.9\n",
    "par.pW = 1.1\n",
    "\n",
    "# c. disutility of labor\n",
    "par.nu = 0.0002\n",
    "par.sigma = 2.0\n",
    "par.epsilon = 1.0\n",
    "\n",
    "# d. consumption utility\n",
    "par.rho = 2.0\n",
    "par.omega = 0.50\n",
    "par.Qubar = 1e-8"
   ]
  },
  {
   "cell_type": "markdown",
   "id": "24861ab4-077b-49c0-91af-aa92ffb21ec4",
   "metadata": {},
   "source": [
    "# Solution functions"
   ]
  },
  {
   "cell_type": "code",
   "execution_count": 4,
   "id": "a95f9cce-92f1-42e4-99f3-70ab2b26f63d",
   "metadata": {},
   "outputs": [],
   "source": [
    "def utility_func(LM,HM,LW,HW,par):\n",
    "    \n",
    "    C = par.wM*LM + par.wW*LW\n",
    "    H = par.pM*HM + par.pW*HW\n",
    "    \n",
    "    Q = C**par.omega+H**(1-par.omega)+par.Qubar\n",
    "    \n",
    "    utility = Q**(1-par.rho)/(1-par.rho) \n",
    "        \n",
    "    disutility = par.nu*(LM**par.sigma+HM**par.sigma)**((1+par.epsilon)/par.sigma)\n",
    "    disutility += par.nu*(LW**par.sigma+HW**par.sigma)**((1+par.epsilon)/par.sigma)\n",
    "        \n",
    "    return utility - disutility"
   ]
  },
  {
   "cell_type": "code",
   "execution_count": 5,
   "id": "a5ca21d9-1508-4d87-a3ef-6dc5ab0da89f",
   "metadata": {},
   "outputs": [],
   "source": [
    "def solve(par):\n",
    "    \n",
    "    # a. all possible choices\n",
    "    x = np.linspace(0,24,49)\n",
    "    LM,HM,LW,HW = np.meshgrid(x,x,x,x) # all combinations\n",
    "    \n",
    "    LM = LM.ravel() # vector\n",
    "    HM = HM.ravel()\n",
    "    LW = LW.ravel()\n",
    "    HW = HW.ravel()\n",
    "\n",
    "    # b. calculate utility\n",
    "    u = utility_func(LM,HM,LW,HW,par)\n",
    "    \n",
    "    # c. set to minus infinity if constraint is broken\n",
    "    I = (LM+HM > 24) | (LW+HW > 24) # | is \"or\"\n",
    "    u[I] = -np.inf\n",
    "    \n",
    "    # d. find maximizing argument\n",
    "    j = np.argmax(u)\n",
    "    \n",
    "    sol = {\n",
    "        'LM':LM[j],\n",
    "        'HM':HM[j],\n",
    "        'LW':LW[j],\n",
    "        'HW':HW[j]\n",
    "    }\n",
    "    \n",
    "    return sol"
   ]
  },
  {
   "cell_type": "markdown",
   "id": "85368de5-30da-4be3-ac93-35aa9482dcfd",
   "metadata": {},
   "source": [
    "# Solve"
   ]
  },
  {
   "cell_type": "code",
   "execution_count": 6,
   "id": "4f1fd5d1-9cff-499d-8665-69f1dfbcb91e",
   "metadata": {},
   "outputs": [
    {
     "name": "stdout",
     "output_type": "stream",
     "text": [
      "{'LM': 7.0, 'HM': 6.0, 'LW': 6.0, 'HW': 7.0}\n"
     ]
    }
   ],
   "source": [
    "sol = solve(par)\n",
    "print(sol)"
   ]
  },
  {
   "cell_type": "markdown",
   "id": "8d0422f6-e98f-4f62-8a05-313ff0c30811",
   "metadata": {},
   "source": [
    "**Change parameters:**"
   ]
  },
  {
   "cell_type": "code",
   "execution_count": 7,
   "id": "7cf7dade-a0ae-487d-91cc-f6f5ca23289f",
   "metadata": {},
   "outputs": [
    {
     "name": "stdout",
     "output_type": "stream",
     "text": [
      "{'LM': 6.0, 'HM': 7.0, 'LW': 7.0, 'HW': 6.0}\n"
     ]
    }
   ],
   "source": [
    "# a. changes\n",
    "par.wW = 1.1\n",
    "par.wM = 0.9\n",
    "\n",
    "par.pW = 0.9\n",
    "par.pM = 1.1\n",
    "\n",
    "# b. solution\n",
    "sol = solve(par)\n",
    "print(sol)"
   ]
  },
  {
   "cell_type": "markdown",
   "id": "d285b39c-20a1-4cb3-8ca9-3975d0cac6f2",
   "metadata": {},
   "source": [
    "# Export"
   ]
  },
  {
   "cell_type": "code",
   "execution_count": 12,
   "id": "c09361bc-7dc5-49b7-8d67-c04f04f935ee",
   "metadata": {},
   "outputs": [
    {
     "name": "stdout",
     "output_type": "stream",
     "text": [
      "0 1 2 3 4 5 6 7 8 9 "
     ]
    }
   ],
   "source": [
    "K = 10\n",
    "\n",
    "results = {}\n",
    "results['LM'] = np.zeros(K)\n",
    "results['HM'] = np.zeros(K)\n",
    "results['LW'] = np.zeros(K)\n",
    "results['HW'] = np.zeros(K)\n",
    "\n",
    "wW_vec = np.linspace(0.9,1.1,K)\n",
    "\n",
    "for i,wW in enumerate(wW_vec):\n",
    "    \n",
    "    print(f'{i} ',end='')\n",
    "    \n",
    "    par.wW = wW\n",
    "    sol = solve(par)\n",
    "    \n",
    "    results['LM'][i] = sol['LM']\n",
    "    results['HM'][i] = sol['HM']\n",
    "    results['LW'][i] = sol['LW']\n",
    "    results['HW'][i] = sol['HW']\n",
    "    \n",
    "pd.DataFrame(results).to_csv(\"results.csv\")"
   ]
  }
 ],
 "metadata": {
  "kernelspec": {
   "display_name": "Python 3 (ipykernel)",
   "language": "python",
   "name": "python3"
  },
  "language_info": {
   "codemirror_mode": {
    "name": "ipython",
    "version": 3
   },
   "file_extension": ".py",
   "mimetype": "text/x-python",
   "name": "python",
   "nbconvert_exporter": "python",
   "pygments_lexer": "ipython3",
   "version": "3.9.10"
  },
  "toc-autonumbering": true
 },
 "nbformat": 4,
 "nbformat_minor": 5
}
